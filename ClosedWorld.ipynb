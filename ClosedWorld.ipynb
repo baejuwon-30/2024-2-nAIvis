{
 "cells": [
  {
   "cell_type": "code",
   "execution_count": 1,
   "metadata": {},
   "outputs": [],
   "source": [
    "import import_ipynb\n",
    "import utility\n",
    "import Model"
   ]
  },
  {
   "cell_type": "code",
   "execution_count": 2,
   "metadata": {},
   "outputs": [],
   "source": [
    "from keras import backend as K\n",
    "from utility import LoadDataNoDefCW\n",
    "from Model import DFNet\n",
    "import random\n",
    "from keras.utils import np_utils\n",
    "from keras.optimizers import Adamax\n",
    "import numpy as np\n",
    "import os\n",
    "\n",
    "random.seed(0)\n",
    "os.environ['TF_CPP_MIN_LOG_LEVEL'] = '3'"
   ]
  },
  {
   "cell_type": "code",
   "execution_count": 3,
   "metadata": {},
   "outputs": [
    {
     "name": "stdout",
     "output_type": "stream",
     "text": [
      "Training and evaluating DF model for closed-world scenario on non-defended dataset\n",
      "Number of Epoch:  100\n"
     ]
    },
    {
     "name": "stderr",
     "output_type": "stream",
     "text": [
      "c:\\ProgramData\\Anaconda3\\envs\\nAIvis\\lib\\site-packages\\keras\\optimizers\\optimizer_v2\\adamax.py:99: UserWarning: The `lr` argument is deprecated, use `learning_rate` instead.\n",
      "  super().__init__(name, **kwargs)\n"
     ]
    }
   ],
   "source": [
    "# Use only CPU\n",
    "#os.environ[\"CUDA_DEVICE_ORDER\"] = \"PCI_BUS_ID\"   # see issue #152\n",
    "#os.environ[\"CUDA_VISIBLE_DEVICES\"] = \"\"\n",
    "\n",
    "description = \"Training and evaluating DF model for closed-world scenario on non-defended dataset\"\n",
    "\n",
    "print(description)\n",
    "# Training the DF model\n",
    "NB_EPOCH = 100   # Number of training epoch\n",
    "print (\"Number of Epoch: \", NB_EPOCH)\n",
    "BATCH_SIZE = 128 # Batch size\n",
    "VERBOSE = 2 # Output display mode\n",
    "LENGTH = 10000 # Packet sequence length\n",
    "OPTIMIZER = Adamax(lr=0.002, beta_1=0.9, beta_2=0.999, epsilon=1e-08, decay=0.0) # Optimizer\n",
    "\n",
    "NB_CLASSES = 95 # number of outputs = number of classes\n",
    "INPUT_SHAPE = (LENGTH,1)"
   ]
  },
  {
   "cell_type": "code",
   "execution_count": 4,
   "metadata": {},
   "outputs": [
    {
     "name": "stdout",
     "output_type": "stream",
     "text": [
      "Loading and preparing data for training, and evaluating the model\n",
      "Loading non-defended dataset for closed-world scenario\n"
     ]
    },
    {
     "name": "stderr",
     "output_type": "stream",
     "text": [
      "utility:13: VisibleDeprecationWarning: Creating an ndarray from ragged nested sequences (which is a list-or-tuple of lists-or-tuples-or ndarrays with different lengths or shapes) is deprecated. If you meant to do this, you must specify 'dtype=object' when creating the ndarray.\n",
      "utility:19: VisibleDeprecationWarning: Creating an ndarray from ragged nested sequences (which is a list-or-tuple of lists-or-tuples-or ndarrays with different lengths or shapes) is deprecated. If you meant to do this, you must specify 'dtype=object' when creating the ndarray.\n"
     ]
    },
    {
     "name": "stdout",
     "output_type": "stream",
     "text": [
      "Data dimensions:\n",
      "X: Training data's shape :  (11400,)\n",
      "y: Training data's shape :  (11400,)\n",
      "X: Validation data's shape :  (3800,)\n",
      "y: Validation data's shape :  (3800,)\n",
      "X: Testing data's shape :  (3800,)\n",
      "y: Testing data's shape :  (3800,)\n"
     ]
    },
    {
     "name": "stderr",
     "output_type": "stream",
     "text": [
      "utility:25: VisibleDeprecationWarning: Creating an ndarray from ragged nested sequences (which is a list-or-tuple of lists-or-tuples-or ndarrays with different lengths or shapes) is deprecated. If you meant to do this, you must specify 'dtype=object' when creating the ndarray.\n"
     ]
    }
   ],
   "source": [
    "# Data: shuffled and split between train and test sets\n",
    "print (\"Loading and preparing data for training, and evaluating the model\")\n",
    "X_train, y_train, X_valid, y_valid, X_test, y_test = LoadDataNoDefCW()\n",
    "# Please refer to the dataset format in readme\n",
    "K.set_image_data_format(\"channels_last\") # tf is tensorflow"
   ]
  },
  {
   "cell_type": "code",
   "execution_count": 5,
   "metadata": {},
   "outputs": [],
   "source": [
    "# Function to adjust the sequence length to a target length\n",
    "def adjust_sequence_length(sequence, target_length=10000, padding_value=-1):\n",
    "    if len(sequence) < target_length:\n",
    "        # If the sequence is shorter than the target length, pad with the specified value\n",
    "        sequence = sequence + [padding_value] * (target_length - len(sequence))\n",
    "    else:\n",
    "        # If the sequence is longer than the target length, truncate it\n",
    "        sequence = sequence[:target_length]\n",
    "    return sequence\n",
    "\n",
    "# Adjust sequence lengths for each dataset\n",
    "X_train = np.array([adjust_sequence_length(seq) for seq in X_train])\n",
    "X_valid = np.array([adjust_sequence_length(seq) for seq in X_valid])\n",
    "X_test = np.array([adjust_sequence_length(seq) for seq in X_test])\n",
    "\n",
    "# Convert data to float32 type\n",
    "X_train = X_train.astype('float32')\n",
    "X_valid = X_valid.astype('float32')\n",
    "X_test = X_test.astype('float32')\n",
    "y_train = np.array(y_train).astype('float32')\n",
    "y_valid = np.array(y_valid).astype('float32')\n",
    "y_test = np.array(y_test).astype('float32')\n"
   ]
  },
  {
   "cell_type": "code",
   "execution_count": 6,
   "metadata": {},
   "outputs": [
    {
     "name": "stdout",
     "output_type": "stream",
     "text": [
      "11400 train samples\n",
      "3800 validation samples\n",
      "3800 test samples\n"
     ]
    }
   ],
   "source": [
    "# we need a [Length x 1] x n shape as input to the DF CNN (Tensorflow)\n",
    "X_train = X_train[:, :,np.newaxis]\n",
    "X_valid = X_valid[:, :,np.newaxis]\n",
    "X_test = X_test[:, :,np.newaxis]\n",
    "\n",
    "print(X_train.shape[0], 'train samples')\n",
    "print(X_valid.shape[0], 'validation samples')\n",
    "print(X_test.shape[0], 'test samples')"
   ]
  },
  {
   "cell_type": "code",
   "execution_count": 7,
   "metadata": {},
   "outputs": [],
   "source": [
    "# Convert class vectors to categorical classes matrices\n",
    "y_train = np_utils.to_categorical(y_train, NB_CLASSES)\n",
    "y_valid = np_utils.to_categorical(y_valid, NB_CLASSES)\n",
    "y_test = np_utils.to_categorical(y_test, NB_CLASSES)"
   ]
  },
  {
   "cell_type": "code",
   "execution_count": 8,
   "metadata": {},
   "outputs": [
    {
     "name": "stdout",
     "output_type": "stream",
     "text": [
      "Building and training DF model\n",
      "Model compiled\n"
     ]
    }
   ],
   "source": [
    "# Building and training model\n",
    "print (\"Building and training DF model\")\n",
    "\n",
    "model = DFNet.build(input_shape=INPUT_SHAPE, classes=NB_CLASSES)\n",
    "\n",
    "model.compile(loss=\"categorical_crossentropy\", optimizer=OPTIMIZER,\n",
    "\tmetrics=[\"accuracy\"])\n",
    "print (\"Model compiled\")"
   ]
  },
  {
   "cell_type": "code",
   "execution_count": 9,
   "metadata": {},
   "outputs": [
    {
     "name": "stdout",
     "output_type": "stream",
     "text": [
      "Epoch 1/100\n",
      "90/90 - 114s - loss: 4.3738 - accuracy: 0.0648 - val_loss: 4.8059 - val_accuracy: 0.0079 - 114s/epoch - 1s/step\n",
      "Epoch 2/100\n",
      "90/90 - 88s - loss: 3.6760 - accuracy: 0.1425 - val_loss: 5.6780 - val_accuracy: 0.0079 - 88s/epoch - 983ms/step\n",
      "Epoch 3/100\n",
      "90/90 - 88s - loss: 3.2534 - accuracy: 0.2211 - val_loss: 5.5144 - val_accuracy: 0.0095 - 88s/epoch - 983ms/step\n",
      "Epoch 4/100\n",
      "90/90 - 88s - loss: 2.9251 - accuracy: 0.2959 - val_loss: 5.4286 - val_accuracy: 0.0268 - 88s/epoch - 983ms/step\n",
      "Epoch 5/100\n",
      "90/90 - 88s - loss: 2.6756 - accuracy: 0.3497 - val_loss: 4.4772 - val_accuracy: 0.0861 - 88s/epoch - 983ms/step\n",
      "Epoch 6/100\n",
      "90/90 - 89s - loss: 2.4540 - accuracy: 0.4054 - val_loss: 3.3876 - val_accuracy: 0.1934 - 89s/epoch - 984ms/step\n",
      "Epoch 7/100\n",
      "90/90 - 89s - loss: 2.2605 - accuracy: 0.4510 - val_loss: 2.9110 - val_accuracy: 0.3055 - 89s/epoch - 984ms/step\n",
      "Epoch 8/100\n",
      "90/90 - 68s - loss: 2.0914 - accuracy: 0.4905 - val_loss: 2.3397 - val_accuracy: 0.4513 - 68s/epoch - 752ms/step\n",
      "Epoch 9/100\n",
      "90/90 - 18s - loss: 1.9249 - accuracy: 0.5333 - val_loss: 2.4328 - val_accuracy: 0.4292 - 18s/epoch - 199ms/step\n",
      "Epoch 10/100\n",
      "90/90 - 18s - loss: 1.7821 - accuracy: 0.5704 - val_loss: 1.7443 - val_accuracy: 0.6018 - 18s/epoch - 200ms/step\n",
      "Epoch 11/100\n",
      "90/90 - 18s - loss: 1.6763 - accuracy: 0.5953 - val_loss: 1.6115 - val_accuracy: 0.6284 - 18s/epoch - 201ms/step\n",
      "Epoch 12/100\n",
      "90/90 - 18s - loss: 1.5391 - accuracy: 0.6249 - val_loss: 1.7012 - val_accuracy: 0.5908 - 18s/epoch - 202ms/step\n",
      "Epoch 13/100\n",
      "90/90 - 18s - loss: 1.4174 - accuracy: 0.6522 - val_loss: 1.6831 - val_accuracy: 0.6100 - 18s/epoch - 204ms/step\n",
      "Epoch 14/100\n",
      "90/90 - 18s - loss: 1.3074 - accuracy: 0.6795 - val_loss: 1.1049 - val_accuracy: 0.7511 - 18s/epoch - 202ms/step\n",
      "Epoch 15/100\n",
      "90/90 - 18s - loss: 1.2097 - accuracy: 0.7056 - val_loss: 1.1327 - val_accuracy: 0.7332 - 18s/epoch - 203ms/step\n",
      "Epoch 16/100\n",
      "90/90 - 18s - loss: 1.1304 - accuracy: 0.7239 - val_loss: 0.8959 - val_accuracy: 0.7905 - 18s/epoch - 203ms/step\n",
      "Epoch 17/100\n",
      "90/90 - 18s - loss: 1.0445 - accuracy: 0.7394 - val_loss: 0.9677 - val_accuracy: 0.7774 - 18s/epoch - 203ms/step\n",
      "Epoch 18/100\n",
      "90/90 - 18s - loss: 0.9514 - accuracy: 0.7665 - val_loss: 0.8634 - val_accuracy: 0.8045 - 18s/epoch - 203ms/step\n",
      "Epoch 19/100\n",
      "90/90 - 18s - loss: 0.8879 - accuracy: 0.7827 - val_loss: 0.7631 - val_accuracy: 0.8245 - 18s/epoch - 204ms/step\n",
      "Epoch 20/100\n",
      "90/90 - 18s - loss: 0.8419 - accuracy: 0.7862 - val_loss: 0.7249 - val_accuracy: 0.8295 - 18s/epoch - 204ms/step\n",
      "Epoch 21/100\n",
      "90/90 - 19s - loss: 0.7629 - accuracy: 0.8107 - val_loss: 0.7078 - val_accuracy: 0.8287 - 19s/epoch - 206ms/step\n",
      "Epoch 22/100\n",
      "90/90 - 19s - loss: 0.7228 - accuracy: 0.8195 - val_loss: 0.6738 - val_accuracy: 0.8418 - 19s/epoch - 208ms/step\n",
      "Epoch 23/100\n",
      "90/90 - 18s - loss: 0.6679 - accuracy: 0.8357 - val_loss: 0.9217 - val_accuracy: 0.7732 - 18s/epoch - 205ms/step\n",
      "Epoch 24/100\n",
      "90/90 - 19s - loss: 0.6395 - accuracy: 0.8387 - val_loss: 0.6927 - val_accuracy: 0.8371 - 19s/epoch - 207ms/step\n",
      "Epoch 25/100\n",
      "90/90 - 18s - loss: 0.5943 - accuracy: 0.8529 - val_loss: 0.6315 - val_accuracy: 0.8489 - 18s/epoch - 205ms/step\n",
      "Epoch 26/100\n",
      "90/90 - 18s - loss: 0.5727 - accuracy: 0.8529 - val_loss: 0.5698 - val_accuracy: 0.8668 - 18s/epoch - 205ms/step\n",
      "Epoch 27/100\n",
      "90/90 - 18s - loss: 0.5204 - accuracy: 0.8708 - val_loss: 0.5469 - val_accuracy: 0.8682 - 18s/epoch - 205ms/step\n",
      "Epoch 28/100\n",
      "90/90 - 18s - loss: 0.4989 - accuracy: 0.8723 - val_loss: 0.5757 - val_accuracy: 0.8608 - 18s/epoch - 205ms/step\n",
      "Epoch 29/100\n",
      "90/90 - 18s - loss: 0.4776 - accuracy: 0.8786 - val_loss: 0.5114 - val_accuracy: 0.8763 - 18s/epoch - 204ms/step\n",
      "Epoch 30/100\n",
      "90/90 - 18s - loss: 0.4565 - accuracy: 0.8839 - val_loss: 0.4789 - val_accuracy: 0.8824 - 18s/epoch - 203ms/step\n",
      "Epoch 31/100\n",
      "90/90 - 18s - loss: 0.4066 - accuracy: 0.8952 - val_loss: 0.4953 - val_accuracy: 0.8832 - 18s/epoch - 203ms/step\n",
      "Epoch 32/100\n",
      "90/90 - 18s - loss: 0.3881 - accuracy: 0.9057 - val_loss: 0.4667 - val_accuracy: 0.8861 - 18s/epoch - 204ms/step\n",
      "Epoch 33/100\n",
      "90/90 - 18s - loss: 0.3939 - accuracy: 0.9009 - val_loss: 0.4645 - val_accuracy: 0.8908 - 18s/epoch - 204ms/step\n",
      "Epoch 34/100\n",
      "90/90 - 18s - loss: 0.3599 - accuracy: 0.9077 - val_loss: 0.4310 - val_accuracy: 0.8950 - 18s/epoch - 204ms/step\n",
      "Epoch 35/100\n",
      "90/90 - 18s - loss: 0.3476 - accuracy: 0.9121 - val_loss: 0.4279 - val_accuracy: 0.8989 - 18s/epoch - 204ms/step\n",
      "Epoch 36/100\n",
      "90/90 - 18s - loss: 0.3236 - accuracy: 0.9175 - val_loss: 0.4481 - val_accuracy: 0.8939 - 18s/epoch - 204ms/step\n",
      "Epoch 37/100\n",
      "90/90 - 18s - loss: 0.3142 - accuracy: 0.9203 - val_loss: 0.4406 - val_accuracy: 0.8937 - 18s/epoch - 204ms/step\n",
      "Epoch 38/100\n",
      "90/90 - 18s - loss: 0.2934 - accuracy: 0.9254 - val_loss: 0.4098 - val_accuracy: 0.9034 - 18s/epoch - 204ms/step\n",
      "Epoch 39/100\n",
      "90/90 - 18s - loss: 0.2954 - accuracy: 0.9240 - val_loss: 0.4056 - val_accuracy: 0.9089 - 18s/epoch - 204ms/step\n",
      "Epoch 40/100\n",
      "90/90 - 18s - loss: 0.2782 - accuracy: 0.9283 - val_loss: 0.4389 - val_accuracy: 0.8955 - 18s/epoch - 204ms/step\n",
      "Epoch 41/100\n",
      "90/90 - 18s - loss: 0.2850 - accuracy: 0.9237 - val_loss: 0.3873 - val_accuracy: 0.9089 - 18s/epoch - 204ms/step\n",
      "Epoch 42/100\n",
      "90/90 - 18s - loss: 0.2589 - accuracy: 0.9316 - val_loss: 0.3860 - val_accuracy: 0.9111 - 18s/epoch - 204ms/step\n",
      "Epoch 43/100\n",
      "90/90 - 18s - loss: 0.2520 - accuracy: 0.9361 - val_loss: 0.3893 - val_accuracy: 0.9108 - 18s/epoch - 204ms/step\n",
      "Epoch 44/100\n",
      "90/90 - 19s - loss: 0.2453 - accuracy: 0.9348 - val_loss: 0.3794 - val_accuracy: 0.9092 - 19s/epoch - 206ms/step\n",
      "Epoch 45/100\n",
      "90/90 - 19s - loss: 0.2320 - accuracy: 0.9396 - val_loss: 0.3684 - val_accuracy: 0.9139 - 19s/epoch - 206ms/step\n",
      "Epoch 46/100\n",
      "90/90 - 19s - loss: 0.2138 - accuracy: 0.9456 - val_loss: 0.3655 - val_accuracy: 0.9145 - 19s/epoch - 207ms/step\n",
      "Epoch 47/100\n",
      "90/90 - 19s - loss: 0.2101 - accuracy: 0.9447 - val_loss: 0.3778 - val_accuracy: 0.9108 - 19s/epoch - 206ms/step\n",
      "Epoch 48/100\n",
      "90/90 - 18s - loss: 0.2178 - accuracy: 0.9418 - val_loss: 0.4090 - val_accuracy: 0.9071 - 18s/epoch - 204ms/step\n",
      "Epoch 49/100\n",
      "90/90 - 18s - loss: 0.2116 - accuracy: 0.9430 - val_loss: 0.3668 - val_accuracy: 0.9163 - 18s/epoch - 204ms/step\n",
      "Epoch 50/100\n",
      "90/90 - 18s - loss: 0.1962 - accuracy: 0.9490 - val_loss: 0.3664 - val_accuracy: 0.9161 - 18s/epoch - 204ms/step\n",
      "Epoch 51/100\n",
      "90/90 - 18s - loss: 0.1949 - accuracy: 0.9495 - val_loss: 0.3873 - val_accuracy: 0.9087 - 18s/epoch - 204ms/step\n",
      "Epoch 52/100\n",
      "90/90 - 18s - loss: 0.1867 - accuracy: 0.9498 - val_loss: 0.3875 - val_accuracy: 0.9103 - 18s/epoch - 204ms/step\n",
      "Epoch 53/100\n",
      "90/90 - 18s - loss: 0.1814 - accuracy: 0.9517 - val_loss: 0.3694 - val_accuracy: 0.9179 - 18s/epoch - 204ms/step\n",
      "Epoch 54/100\n",
      "90/90 - 18s - loss: 0.1622 - accuracy: 0.9572 - val_loss: 0.3709 - val_accuracy: 0.9163 - 18s/epoch - 204ms/step\n",
      "Epoch 55/100\n",
      "90/90 - 18s - loss: 0.1740 - accuracy: 0.9539 - val_loss: 0.3471 - val_accuracy: 0.9203 - 18s/epoch - 204ms/step\n",
      "Epoch 56/100\n",
      "90/90 - 18s - loss: 0.1686 - accuracy: 0.9541 - val_loss: 0.3426 - val_accuracy: 0.9200 - 18s/epoch - 204ms/step\n",
      "Epoch 57/100\n",
      "90/90 - 18s - loss: 0.1576 - accuracy: 0.9597 - val_loss: 0.3388 - val_accuracy: 0.9205 - 18s/epoch - 204ms/step\n",
      "Epoch 58/100\n",
      "90/90 - 18s - loss: 0.1648 - accuracy: 0.9571 - val_loss: 0.3529 - val_accuracy: 0.9192 - 18s/epoch - 204ms/step\n",
      "Epoch 59/100\n",
      "90/90 - 18s - loss: 0.1468 - accuracy: 0.9599 - val_loss: 0.3379 - val_accuracy: 0.9232 - 18s/epoch - 204ms/step\n",
      "Epoch 60/100\n",
      "90/90 - 18s - loss: 0.1453 - accuracy: 0.9620 - val_loss: 0.3654 - val_accuracy: 0.9197 - 18s/epoch - 204ms/step\n",
      "Epoch 61/100\n",
      "90/90 - 18s - loss: 0.1419 - accuracy: 0.9622 - val_loss: 0.3727 - val_accuracy: 0.9163 - 18s/epoch - 204ms/step\n",
      "Epoch 62/100\n",
      "90/90 - 18s - loss: 0.1423 - accuracy: 0.9627 - val_loss: 0.3430 - val_accuracy: 0.9255 - 18s/epoch - 204ms/step\n",
      "Epoch 63/100\n",
      "90/90 - 18s - loss: 0.1251 - accuracy: 0.9668 - val_loss: 0.3426 - val_accuracy: 0.9187 - 18s/epoch - 203ms/step\n",
      "Epoch 64/100\n",
      "90/90 - 18s - loss: 0.1240 - accuracy: 0.9681 - val_loss: 0.3546 - val_accuracy: 0.9195 - 18s/epoch - 204ms/step\n",
      "Epoch 65/100\n",
      "90/90 - 18s - loss: 0.1307 - accuracy: 0.9653 - val_loss: 0.3602 - val_accuracy: 0.9205 - 18s/epoch - 204ms/step\n",
      "Epoch 66/100\n",
      "90/90 - 18s - loss: 0.1360 - accuracy: 0.9630 - val_loss: 0.4138 - val_accuracy: 0.9037 - 18s/epoch - 204ms/step\n",
      "Epoch 67/100\n",
      "90/90 - 18s - loss: 0.1229 - accuracy: 0.9658 - val_loss: 0.3543 - val_accuracy: 0.9221 - 18s/epoch - 204ms/step\n",
      "Epoch 68/100\n",
      "90/90 - 18s - loss: 0.1277 - accuracy: 0.9640 - val_loss: 0.3429 - val_accuracy: 0.9255 - 18s/epoch - 204ms/step\n",
      "Epoch 69/100\n",
      "90/90 - 18s - loss: 0.1264 - accuracy: 0.9672 - val_loss: 0.3803 - val_accuracy: 0.9163 - 18s/epoch - 204ms/step\n",
      "Epoch 70/100\n",
      "90/90 - 18s - loss: 0.1312 - accuracy: 0.9656 - val_loss: 0.3605 - val_accuracy: 0.9195 - 18s/epoch - 204ms/step\n",
      "Epoch 71/100\n",
      "90/90 - 18s - loss: 0.1332 - accuracy: 0.9626 - val_loss: 0.3512 - val_accuracy: 0.9250 - 18s/epoch - 204ms/step\n",
      "Epoch 72/100\n",
      "90/90 - 18s - loss: 0.1146 - accuracy: 0.9682 - val_loss: 0.3505 - val_accuracy: 0.9226 - 18s/epoch - 204ms/step\n",
      "Epoch 73/100\n",
      "90/90 - 18s - loss: 0.1110 - accuracy: 0.9702 - val_loss: 0.3587 - val_accuracy: 0.9234 - 18s/epoch - 204ms/step\n",
      "Epoch 74/100\n",
      "90/90 - 18s - loss: 0.1208 - accuracy: 0.9673 - val_loss: 0.3384 - val_accuracy: 0.9279 - 18s/epoch - 204ms/step\n",
      "Epoch 75/100\n",
      "90/90 - 18s - loss: 0.1022 - accuracy: 0.9715 - val_loss: 0.3573 - val_accuracy: 0.9213 - 18s/epoch - 204ms/step\n",
      "Epoch 76/100\n",
      "90/90 - 18s - loss: 0.0906 - accuracy: 0.9739 - val_loss: 0.3445 - val_accuracy: 0.9266 - 18s/epoch - 204ms/step\n",
      "Epoch 77/100\n",
      "90/90 - 18s - loss: 0.0846 - accuracy: 0.9766 - val_loss: 0.3499 - val_accuracy: 0.9213 - 18s/epoch - 204ms/step\n",
      "Epoch 78/100\n",
      "90/90 - 18s - loss: 0.0804 - accuracy: 0.9789 - val_loss: 0.3145 - val_accuracy: 0.9318 - 18s/epoch - 204ms/step\n",
      "Epoch 79/100\n",
      "90/90 - 18s - loss: 0.0870 - accuracy: 0.9783 - val_loss: 0.3402 - val_accuracy: 0.9253 - 18s/epoch - 204ms/step\n",
      "Epoch 80/100\n",
      "90/90 - 18s - loss: 0.0828 - accuracy: 0.9779 - val_loss: 0.3288 - val_accuracy: 0.9276 - 18s/epoch - 204ms/step\n",
      "Epoch 81/100\n",
      "90/90 - 18s - loss: 0.0949 - accuracy: 0.9729 - val_loss: 0.3404 - val_accuracy: 0.9295 - 18s/epoch - 204ms/step\n",
      "Epoch 82/100\n",
      "90/90 - 18s - loss: 0.0933 - accuracy: 0.9742 - val_loss: 0.3358 - val_accuracy: 0.9287 - 18s/epoch - 204ms/step\n",
      "Epoch 83/100\n",
      "90/90 - 18s - loss: 0.0856 - accuracy: 0.9775 - val_loss: 0.3469 - val_accuracy: 0.9255 - 18s/epoch - 204ms/step\n",
      "Epoch 84/100\n",
      "90/90 - 18s - loss: 0.0861 - accuracy: 0.9758 - val_loss: 0.3376 - val_accuracy: 0.9305 - 18s/epoch - 204ms/step\n",
      "Epoch 85/100\n",
      "90/90 - 18s - loss: 0.0758 - accuracy: 0.9795 - val_loss: 0.3516 - val_accuracy: 0.9247 - 18s/epoch - 204ms/step\n",
      "Epoch 86/100\n",
      "90/90 - 18s - loss: 0.0754 - accuracy: 0.9805 - val_loss: 0.3450 - val_accuracy: 0.9289 - 18s/epoch - 204ms/step\n",
      "Epoch 87/100\n",
      "90/90 - 18s - loss: 0.0747 - accuracy: 0.9786 - val_loss: 0.3674 - val_accuracy: 0.9245 - 18s/epoch - 204ms/step\n",
      "Epoch 88/100\n",
      "90/90 - 18s - loss: 0.0685 - accuracy: 0.9809 - val_loss: 0.3376 - val_accuracy: 0.9282 - 18s/epoch - 204ms/step\n",
      "Epoch 89/100\n",
      "90/90 - 18s - loss: 0.0784 - accuracy: 0.9782 - val_loss: 0.3506 - val_accuracy: 0.9247 - 18s/epoch - 204ms/step\n",
      "Epoch 90/100\n",
      "90/90 - 18s - loss: 0.0689 - accuracy: 0.9808 - val_loss: 0.3393 - val_accuracy: 0.9289 - 18s/epoch - 204ms/step\n",
      "Epoch 91/100\n",
      "90/90 - 18s - loss: 0.0632 - accuracy: 0.9820 - val_loss: 0.3484 - val_accuracy: 0.9276 - 18s/epoch - 204ms/step\n",
      "Epoch 92/100\n",
      "90/90 - 18s - loss: 0.0771 - accuracy: 0.9772 - val_loss: 0.3640 - val_accuracy: 0.9253 - 18s/epoch - 204ms/step\n",
      "Epoch 93/100\n",
      "90/90 - 18s - loss: 0.0780 - accuracy: 0.9787 - val_loss: 0.3479 - val_accuracy: 0.9271 - 18s/epoch - 204ms/step\n",
      "Epoch 94/100\n",
      "90/90 - 18s - loss: 0.0755 - accuracy: 0.9800 - val_loss: 0.3554 - val_accuracy: 0.9242 - 18s/epoch - 204ms/step\n",
      "Epoch 95/100\n",
      "90/90 - 18s - loss: 0.0729 - accuracy: 0.9782 - val_loss: 0.3766 - val_accuracy: 0.9218 - 18s/epoch - 204ms/step\n",
      "Epoch 96/100\n",
      "90/90 - 18s - loss: 0.0657 - accuracy: 0.9817 - val_loss: 0.3476 - val_accuracy: 0.9263 - 18s/epoch - 204ms/step\n",
      "Epoch 97/100\n",
      "90/90 - 18s - loss: 0.0702 - accuracy: 0.9805 - val_loss: 0.3694 - val_accuracy: 0.9279 - 18s/epoch - 204ms/step\n",
      "Epoch 98/100\n",
      "90/90 - 18s - loss: 0.0715 - accuracy: 0.9804 - val_loss: 0.3412 - val_accuracy: 0.9279 - 18s/epoch - 204ms/step\n",
      "Epoch 99/100\n",
      "90/90 - 18s - loss: 0.0667 - accuracy: 0.9818 - val_loss: 0.3377 - val_accuracy: 0.9266 - 18s/epoch - 204ms/step\n",
      "Epoch 100/100\n",
      "90/90 - 18s - loss: 0.0653 - accuracy: 0.9810 - val_loss: 0.3500 - val_accuracy: 0.9279 - 18s/epoch - 204ms/step\n"
     ]
    }
   ],
   "source": [
    "# Start training\n",
    "history = model.fit(X_train, y_train,\n",
    "\t\tbatch_size=BATCH_SIZE, epochs=NB_EPOCH,\n",
    "\t\tverbose=VERBOSE, validation_data=(X_valid, y_valid))"
   ]
  },
  {
   "cell_type": "code",
   "execution_count": 10,
   "metadata": {},
   "outputs": [
    {
     "name": "stdout",
     "output_type": "stream",
     "text": [
      "119/119 - 2s - loss: 0.3199 - accuracy: 0.9279 - 2s/epoch - 19ms/step\n",
      "Testing accuracy: 0.9278947114944458\n"
     ]
    }
   ],
   "source": [
    "# Start evaluating model with testing data\n",
    "score_test = model.evaluate(X_test, y_test, verbose=VERBOSE)\n",
    "print(\"Testing accuracy:\", score_test[1])"
   ]
  }
 ],
 "metadata": {
  "kernelspec": {
   "display_name": "nAIvis",
   "language": "python",
   "name": "python3"
  },
  "language_info": {
   "codemirror_mode": {
    "name": "ipython",
    "version": 3
   },
   "file_extension": ".py",
   "mimetype": "text/x-python",
   "name": "python",
   "nbconvert_exporter": "python",
   "pygments_lexer": "ipython3",
   "version": "3.7.7"
  }
 },
 "nbformat": 4,
 "nbformat_minor": 2
}
